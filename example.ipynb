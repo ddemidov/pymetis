{
 "cells": [
  {
   "cell_type": "code",
   "execution_count": 1,
   "metadata": {
    "collapsed": false
   },
   "outputs": [
    {
     "name": "stdout",
     "output_type": "stream",
     "text": [
      "Populating the interactive namespace from numpy and matplotlib\n"
     ]
    }
   ],
   "source": [
    "%pylab inline\n",
    "from pymetis import *"
   ]
  },
  {
   "cell_type": "code",
   "execution_count": 2,
   "metadata": {
    "collapsed": true
   },
   "outputs": [],
   "source": [
    "# Create CRS matrix for Poisson problem in unit square:\n",
    "n   = 256\n",
    "n2  = n * n\n",
    "nnz = n2 + 4 * (n - 2) * (n - 2)\n",
    "\n",
    "ptr = np.zeros(n2 + 1, dtype = np.int32)\n",
    "col = np.zeros(nnz,    dtype = np.int32)\n",
    "\n",
    "bnd = (0, n-1)\n",
    "\n",
    "col_stencil = np.array([-n, -1,  0,  1,  n])\n",
    "\n",
    "idx  = 0\n",
    "head = 0\n",
    "\n",
    "for i in range(0, n):\n",
    "    for j in range(0, n):\n",
    "        if i in bnd or j in bnd:\n",
    "            col[head] = idx\n",
    "            head += 1\n",
    "        else:\n",
    "            col[head:head+5] = col_stencil + idx\n",
    "            head += 5\n",
    "\n",
    "        idx += 1\n",
    "        ptr[idx] = head"
   ]
  },
  {
   "cell_type": "code",
   "execution_count": 3,
   "metadata": {
    "collapsed": false
   },
   "outputs": [
    {
     "data": {
      "image/png": "[encoded data removed]",
      "text/plain": [
       "<matplotlib.figure.Figure at 0x7f11180d9d30>"
      ]
     },
     "metadata": {},
     "output_type": "display_data"
    }
   ],
   "source": [
    "# Partition domain\n",
    "part = partition(16, 1, ptr, col).reshape((n,n))\n",
    "\n",
    "# Plot partition\n",
    "figure(num=1, figsize=(16,7))\n",
    "imshow(part, origin='lower', interpolation='nearest');"
   ]
  }
 ],
 "metadata": {
  "kernelspec": {
   "display_name": "Python 3",
   "language": "python",
   "name": "python3"
  },
  "language_info": {
   "codemirror_mode": {
    "name": "ipython",
    "version": 3
   },
   "file_extension": ".py",
   "mimetype": "text/x-python",
   "name": "python",
   "nbconvert_exporter": "python",
   "pygments_lexer": "ipython3",
   "version": "3.5.1"
  }
 },
 "nbformat": 4,
 "nbformat_minor": 0
}
